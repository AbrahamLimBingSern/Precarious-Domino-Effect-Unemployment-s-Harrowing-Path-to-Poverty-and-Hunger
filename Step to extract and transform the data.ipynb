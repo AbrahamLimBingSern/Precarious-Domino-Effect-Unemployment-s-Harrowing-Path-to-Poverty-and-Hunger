{
 "cells": [
  {
   "cell_type": "markdown",
   "id": "ee456138",
   "metadata": {},
   "source": [
    "Step to extract and tranform (Python)\n",
    "\n",
    "These packages/libraries need to be installed first before run the codes.\n",
    "\n",
    "1. ! pip install ipython-sql\n",
    "2. ! pip install sqlalchemy\n",
    "3. ! pip install psycopg2\n",
    "4. ! pip install python-sql\n",
    "5. ! pip install pandas-sql\n",
    "6. ! pip install sql-queries\n",
    "\n",
    "4.2 Transform, Cleaning and Dropping"
   ]
  },
  {
   "cell_type": "code",
   "execution_count": 1,
   "id": "3c9f4f94",
   "metadata": {},
   "outputs": [],
   "source": [
    "import pandas as pd"
   ]
  },
  {
   "cell_type": "code",
   "execution_count": 2,
   "id": "770379d5",
   "metadata": {
    "scrolled": true
   },
   "outputs": [
    {
     "name": "stdout",
     "output_type": "stream",
     "text": [
      "<class 'pandas.core.frame.DataFrame'>\n",
      "RangeIndex: 471 entries, 0 to 470\n",
      "Data columns (total 5 columns):\n",
      " #   Column                      Non-Null Count  Dtype  \n",
      "---  ------                      --------------  -----  \n",
      " 0   Country                     471 non-null    object \n",
      " 1   Code                        471 non-null    object \n",
      " 2   Year                        471 non-null    int64  \n",
      " 3   Global Hunger Index (2021)  471 non-null    float64\n",
      " 4   411773-annotations          12 non-null     object \n",
      "dtypes: float64(1), int64(1), object(3)\n",
      "memory usage: 18.5+ KB\n"
     ]
    },
    {
     "data": {
      "text/plain": [
       "Country                        object\n",
       "Code                           object\n",
       "Year                            int64\n",
       "Global Hunger Index (2021)    float64\n",
       "411773-annotations             object\n",
       "dtype: object"
      ]
     },
     "execution_count": 2,
     "metadata": {},
     "output_type": "execute_result"
    }
   ],
   "source": [
    "globalhunger = pd.read_csv(\"global-hunger-index.csv\")\n",
    "# Show the number of rows\n",
    "globalhunger.info()\n",
    "\n",
    "# Show all the data type for each column \n",
    "globalhunger.dtypes"
   ]
  },
  {
   "cell_type": "code",
   "execution_count": 3,
   "id": "9d8a2c84",
   "metadata": {},
   "outputs": [
    {
     "name": "stdout",
     "output_type": "stream",
     "text": [
      "<class 'pandas.core.frame.DataFrame'>\n",
      "RangeIndex: 209 entries, 0 to 208\n",
      "Data columns (total 15 columns):\n",
      " #   Column   Non-Null Count  Dtype  \n",
      "---  ------   --------------  -----  \n",
      " 0   Country  209 non-null    object \n",
      " 1   1990     209 non-null    float64\n",
      " 2   1995     209 non-null    float64\n",
      " 3   2000     209 non-null    float64\n",
      " 4   2005     209 non-null    float64\n",
      " 5   2010     209 non-null    float64\n",
      " 6   2011     209 non-null    float64\n",
      " 7   2012     209 non-null    float64\n",
      " 8   2013     209 non-null    float64\n",
      " 9   2014     209 non-null    float64\n",
      " 10  2015     209 non-null    float64\n",
      " 11  2016     209 non-null    float64\n",
      " 12  2017     209 non-null    float64\n",
      " 13  2018     209 non-null    float64\n",
      " 14  Info     209 non-null    object \n",
      "dtypes: float64(13), object(2)\n",
      "memory usage: 24.6+ KB\n"
     ]
    },
    {
     "data": {
      "text/plain": [
       "Country     object\n",
       "1990       float64\n",
       "1995       float64\n",
       "2000       float64\n",
       "2005       float64\n",
       "2010       float64\n",
       "2011       float64\n",
       "2012       float64\n",
       "2013       float64\n",
       "2014       float64\n",
       "2015       float64\n",
       "2016       float64\n",
       "2017       float64\n",
       "2018       float64\n",
       "Info        object\n",
       "dtype: object"
      ]
     },
     "execution_count": 3,
     "metadata": {},
     "output_type": "execute_result"
    }
   ],
   "source": [
    "incomecountry = pd.read_csv(\"Income by Country.csv\")\n",
    "# Show the number of rows\n",
    "incomecountry.info()\n",
    "\n",
    "# Show all the data type for each column \n",
    "incomecountry.dtypes"
   ]
  },
  {
   "cell_type": "code",
   "execution_count": 4,
   "id": "a45cdd12",
   "metadata": {},
   "outputs": [
    {
     "name": "stdout",
     "output_type": "stream",
     "text": [
      "<class 'pandas.core.frame.DataFrame'>\n",
      "RangeIndex: 102 entries, 0 to 101\n",
      "Data columns (total 8 columns):\n",
      " #   Column                          Non-Null Count  Dtype  \n",
      "---  ------                          --------------  -----  \n",
      " 0   ISO                             102 non-null    object \n",
      " 1   Country                         102 non-null    object \n",
      " 2   MPI_Urban                       102 non-null    float64\n",
      " 3   Headcount_Ratio_Urban           102 non-null    float64\n",
      " 4   Intensity_of_Deprivation_Urban  102 non-null    float64\n",
      " 5   MPI_Rural                       102 non-null    float64\n",
      " 6   Headcount_Ratio_Rural           102 non-null    float64\n",
      " 7   Intensity_of_Deprivation_Rural  102 non-null    float64\n",
      "dtypes: float64(6), object(2)\n",
      "memory usage: 6.5+ KB\n"
     ]
    },
    {
     "data": {
      "text/plain": [
       "ISO                                object\n",
       "Country                            object\n",
       "MPI_Urban                         float64\n",
       "Headcount_Ratio_Urban             float64\n",
       "Intensity_of_Deprivation_Urban    float64\n",
       "MPI_Rural                         float64\n",
       "Headcount_Ratio_Rural             float64\n",
       "Intensity_of_Deprivation_Rural    float64\n",
       "dtype: object"
      ]
     },
     "execution_count": 4,
     "metadata": {},
     "output_type": "execute_result"
    }
   ],
   "source": [
    "mpinational = pd.read_csv(\"MPI_national.csv\")\n",
    "# Show the number of rows\n",
    "mpinational.info()\n",
    "\n",
    "# Show all the data type for each column \n",
    "mpinational.dtypes"
   ]
  },
  {
   "cell_type": "code",
   "execution_count": 5,
   "id": "4ee0b70d",
   "metadata": {
    "scrolled": true
   },
   "outputs": [
    {
     "name": "stdout",
     "output_type": "stream",
     "text": [
      "<class 'pandas.core.frame.DataFrame'>\n",
      "RangeIndex: 3344 entries, 0 to 3343\n",
      "Data columns (total 4 columns):\n",
      " #   Column                                            Non-Null Count  Dtype  \n",
      "---  ------                                            --------------  -----  \n",
      " 0   Country                                           3344 non-null   object \n",
      " 1   Code                                              3078 non-null   object \n",
      " 2   Year                                              3344 non-null   int64  \n",
      " 3   Prevalence of undernourishment (% of population)  3344 non-null   float64\n",
      "dtypes: float64(1), int64(1), object(2)\n",
      "memory usage: 104.6+ KB\n"
     ]
    },
    {
     "data": {
      "text/plain": [
       "Country                                              object\n",
       "Code                                                 object\n",
       "Year                                                  int64\n",
       "Prevalence of undernourishment (% of population)    float64\n",
       "dtype: object"
      ]
     },
     "execution_count": 5,
     "metadata": {},
     "output_type": "execute_result"
    }
   ],
   "source": [
    "prevalence = pd.read_csv(\"prevalence-of-undernourishment.csv\")\n",
    "# Show the number of rows\n",
    "prevalence.info()\n",
    "\n",
    "# Show all the data type for each column \n",
    "prevalence.dtypes"
   ]
  },
  {
   "cell_type": "code",
   "execution_count": 6,
   "id": "4dc18b48",
   "metadata": {},
   "outputs": [
    {
     "name": "stdout",
     "output_type": "stream",
     "text": [
      "<class 'pandas.core.frame.DataFrame'>\n",
      "RangeIndex: 984 entries, 0 to 983\n",
      "Data columns (total 8 columns):\n",
      " #   Column                             Non-Null Count  Dtype  \n",
      "---  ------                             --------------  -----  \n",
      " 0   ISO country code                   984 non-null    object \n",
      " 1   Country                            984 non-null    object \n",
      " 2   Sub-national region                984 non-null    object \n",
      " 3   World region                       984 non-null    object \n",
      " 4   MPI National                       984 non-null    float64\n",
      " 5   MPI Regional                       984 non-null    float64\n",
      " 6   Headcount Ratio Regional           984 non-null    float64\n",
      " 7   Intensity of deprivation Regional  983 non-null    float64\n",
      "dtypes: float64(4), object(4)\n",
      "memory usage: 61.6+ KB\n"
     ]
    },
    {
     "data": {
      "text/plain": [
       "ISO country code                      object\n",
       "Country                               object\n",
       "Sub-national region                   object\n",
       "World region                          object\n",
       "MPI National                         float64\n",
       "MPI Regional                         float64\n",
       "Headcount Ratio Regional             float64\n",
       "Intensity of deprivation Regional    float64\n",
       "dtype: object"
      ]
     },
     "execution_count": 6,
     "metadata": {},
     "output_type": "execute_result"
    }
   ],
   "source": [
    "subnational = pd.read_csv(\"MPI_subnational.csv\")\n",
    "# Show the number of rows\n",
    "subnational.info()\n",
    "\n",
    "# Show all the data type for each column \n",
    "subnational.dtypes"
   ]
  },
  {
   "cell_type": "code",
   "execution_count": 7,
   "id": "c25eaf6c",
   "metadata": {},
   "outputs": [
    {
     "name": "stdout",
     "output_type": "stream",
     "text": [
      "<class 'pandas.core.frame.DataFrame'>\n",
      "RangeIndex: 266 entries, 0 to 265\n",
      "Data columns (total 35 columns):\n",
      " #   Column          Non-Null Count  Dtype  \n",
      "---  ------          --------------  -----  \n",
      " 0   Country Name    266 non-null    object \n",
      " 1   Country Code    266 non-null    object \n",
      " 2   Indicator Name  266 non-null    object \n",
      " 3   Indicator Code  266 non-null    object \n",
      " 4   1991            235 non-null    float64\n",
      " 5   1992            235 non-null    float64\n",
      " 6   1993            235 non-null    float64\n",
      " 7   1994            235 non-null    float64\n",
      " 8   1995            235 non-null    float64\n",
      " 9   1996            235 non-null    float64\n",
      " 10  1997            235 non-null    float64\n",
      " 11  1998            235 non-null    float64\n",
      " 12  1999            235 non-null    float64\n",
      " 13  2000            235 non-null    float64\n",
      " 14  2001            235 non-null    float64\n",
      " 15  2002            235 non-null    float64\n",
      " 16  2003            235 non-null    float64\n",
      " 17  2004            235 non-null    float64\n",
      " 18  2005            235 non-null    float64\n",
      " 19  2006            235 non-null    float64\n",
      " 20  2007            235 non-null    float64\n",
      " 21  2008            235 non-null    float64\n",
      " 22  2009            235 non-null    float64\n",
      " 23  2010            235 non-null    float64\n",
      " 24  2011            235 non-null    float64\n",
      " 25  2012            235 non-null    float64\n",
      " 26  2013            235 non-null    float64\n",
      " 27  2014            235 non-null    float64\n",
      " 28  2015            235 non-null    float64\n",
      " 29  2016            235 non-null    float64\n",
      " 30  2017            235 non-null    float64\n",
      " 31  2018            235 non-null    float64\n",
      " 32  2019            235 non-null    float64\n",
      " 33  2020            235 non-null    float64\n",
      " 34  2021            233 non-null    float64\n",
      "dtypes: float64(31), object(4)\n",
      "memory usage: 72.9+ KB\n"
     ]
    },
    {
     "data": {
      "text/plain": [
       "Country Name       object\n",
       "Country Code       object\n",
       "Indicator Name     object\n",
       "Indicator Code     object\n",
       "1991              float64\n",
       "1992              float64\n",
       "1993              float64\n",
       "1994              float64\n",
       "1995              float64\n",
       "1996              float64\n",
       "1997              float64\n",
       "1998              float64\n",
       "1999              float64\n",
       "2000              float64\n",
       "2001              float64\n",
       "2002              float64\n",
       "2003              float64\n",
       "2004              float64\n",
       "2005              float64\n",
       "2006              float64\n",
       "2007              float64\n",
       "2008              float64\n",
       "2009              float64\n",
       "2010              float64\n",
       "2011              float64\n",
       "2012              float64\n",
       "2013              float64\n",
       "2014              float64\n",
       "2015              float64\n",
       "2016              float64\n",
       "2017              float64\n",
       "2018              float64\n",
       "2019              float64\n",
       "2020              float64\n",
       "2021              float64\n",
       "dtype: object"
      ]
     },
     "execution_count": 7,
     "metadata": {},
     "output_type": "execute_result"
    }
   ],
   "source": [
    "unemployment = pd.read_csv(\"unemployment rate.csv\")\n",
    "# Show the number of rows\n",
    "unemployment.info()\n",
    "\n",
    "# Show all the data type for each column \n",
    "unemployment.dtypes"
   ]
  },
  {
   "cell_type": "code",
   "execution_count": 8,
   "id": "82a68f83",
   "metadata": {},
   "outputs": [],
   "source": [
    "import pandas as pd\n",
    "import psycopg2 as ps\n",
    "import pandas.io.sql as sqlio\n",
    "import missingno as msno\n",
    "import numpy as np"
   ]
  },
  {
   "cell_type": "code",
   "execution_count": 9,
   "id": "db79b421",
   "metadata": {},
   "outputs": [],
   "source": [
    "%reload_ext sql"
   ]
  },
  {
   "cell_type": "code",
   "execution_count": 10,
   "id": "00bb6e11",
   "metadata": {},
   "outputs": [],
   "source": [
    "from sqlalchemy import create_engine"
   ]
  },
  {
   "cell_type": "code",
   "execution_count": 11,
   "id": "7b9ab349",
   "metadata": {},
   "outputs": [],
   "source": [
    "conn2=ps.connect(dbname=\"GroupProject\",\n",
    "\n",
    "               user=\"postgres\",password= \"shuka0816\",host=\"localhost\",\n",
    "\n",
    "                port=\"5432\")"
   ]
  },
  {
   "cell_type": "code",
   "execution_count": 12,
   "id": "6813e3c1",
   "metadata": {},
   "outputs": [],
   "source": [
    "sql=\"\"\"SELECT * FROM pg_catalog.pg_tables\"\"\""
   ]
  },
  {
   "cell_type": "code",
   "execution_count": 13,
   "id": "7e39d7c8",
   "metadata": {},
   "outputs": [],
   "source": [
    "sql=\"\"\"SELECT * FROM \"Unemployment_Rate\" \"\"\""
   ]
  },
  {
   "cell_type": "code",
   "execution_count": 14,
   "id": "05439dd2",
   "metadata": {},
   "outputs": [
    {
     "name": "stderr",
     "output_type": "stream",
     "text": [
      "C:\\Users\\limbi\\anaconda3\\lib\\site-packages\\pandas\\io\\sql.py:762: UserWarning: pandas only support SQLAlchemy connectable(engine/connection) ordatabase string URI or sqlite3 DBAPI2 connectionother DBAPI2 objects are not tested, please consider using SQLAlchemy\n",
      "  warnings.warn(\n"
     ]
    },
    {
     "data": {
      "text/html": [
       "<div>\n",
       "<style scoped>\n",
       "    .dataframe tbody tr th:only-of-type {\n",
       "        vertical-align: middle;\n",
       "    }\n",
       "\n",
       "    .dataframe tbody tr th {\n",
       "        vertical-align: top;\n",
       "    }\n",
       "\n",
       "    .dataframe thead th {\n",
       "        text-align: right;\n",
       "    }\n",
       "</style>\n",
       "<table border=\"1\" class=\"dataframe\">\n",
       "  <thead>\n",
       "    <tr style=\"text-align: right;\">\n",
       "      <th></th>\n",
       "      <th>Country</th>\n",
       "      <th>CountryCode</th>\n",
       "      <th>IndicatorName</th>\n",
       "      <th>IndicatorCode</th>\n",
       "      <th>1991</th>\n",
       "      <th>1992</th>\n",
       "      <th>1993</th>\n",
       "      <th>1994</th>\n",
       "      <th>1995</th>\n",
       "      <th>1996</th>\n",
       "      <th>...</th>\n",
       "      <th>2012</th>\n",
       "      <th>2013</th>\n",
       "      <th>2014</th>\n",
       "      <th>2015</th>\n",
       "      <th>2016</th>\n",
       "      <th>2017</th>\n",
       "      <th>2018</th>\n",
       "      <th>2019</th>\n",
       "      <th>2020</th>\n",
       "      <th>2021</th>\n",
       "    </tr>\n",
       "  </thead>\n",
       "  <tbody>\n",
       "    <tr>\n",
       "      <th>0</th>\n",
       "      <td>Aruba</td>\n",
       "      <td>ABW</td>\n",
       "      <td>Unemployment, total (% of total labor force) (...</td>\n",
       "      <td>SL.UEM.TOTL.ZS</td>\n",
       "      <td>NaN</td>\n",
       "      <td>NaN</td>\n",
       "      <td>NaN</td>\n",
       "      <td>NaN</td>\n",
       "      <td>NaN</td>\n",
       "      <td>NaN</td>\n",
       "      <td>...</td>\n",
       "      <td>NaN</td>\n",
       "      <td>NaN</td>\n",
       "      <td>NaN</td>\n",
       "      <td>NaN</td>\n",
       "      <td>NaN</td>\n",
       "      <td>NaN</td>\n",
       "      <td>NaN</td>\n",
       "      <td>NaN</td>\n",
       "      <td>NaN</td>\n",
       "      <td>NaN</td>\n",
       "    </tr>\n",
       "    <tr>\n",
       "      <th>1</th>\n",
       "      <td>Africa Eastern and Southern</td>\n",
       "      <td>AFE</td>\n",
       "      <td>Unemployment, total (% of total labor force) (...</td>\n",
       "      <td>SL.UEM.TOTL.ZS</td>\n",
       "      <td>7.333336</td>\n",
       "      <td>7.318747</td>\n",
       "      <td>7.242706</td>\n",
       "      <td>7.160694</td>\n",
       "      <td>7.063796</td>\n",
       "      <td>7.055998</td>\n",
       "      <td>...</td>\n",
       "      <td>6.599356</td>\n",
       "      <td>6.512784</td>\n",
       "      <td>6.555645</td>\n",
       "      <td>6.707142</td>\n",
       "      <td>6.855589</td>\n",
       "      <td>6.940365</td>\n",
       "      <td>6.913046</td>\n",
       "      <td>7.121664</td>\n",
       "      <td>7.631303</td>\n",
       "      <td>7.920219</td>\n",
       "    </tr>\n",
       "    <tr>\n",
       "      <th>2</th>\n",
       "      <td>Afghanistan</td>\n",
       "      <td>AFG</td>\n",
       "      <td>Unemployment, total (% of total labor force) (...</td>\n",
       "      <td>SL.UEM.TOTL.ZS</td>\n",
       "      <td>8.121000</td>\n",
       "      <td>8.168000</td>\n",
       "      <td>8.123000</td>\n",
       "      <td>8.111000</td>\n",
       "      <td>8.260000</td>\n",
       "      <td>8.165000</td>\n",
       "      <td>...</td>\n",
       "      <td>8.019000</td>\n",
       "      <td>7.949000</td>\n",
       "      <td>7.910000</td>\n",
       "      <td>8.989000</td>\n",
       "      <td>10.086000</td>\n",
       "      <td>11.180000</td>\n",
       "      <td>11.110000</td>\n",
       "      <td>11.085000</td>\n",
       "      <td>11.710000</td>\n",
       "      <td>NaN</td>\n",
       "    </tr>\n",
       "    <tr>\n",
       "      <th>3</th>\n",
       "      <td>Africa Western and Central</td>\n",
       "      <td>AFW</td>\n",
       "      <td>Unemployment, total (% of total labor force) (...</td>\n",
       "      <td>SL.UEM.TOTL.ZS</td>\n",
       "      <td>4.224595</td>\n",
       "      <td>4.335460</td>\n",
       "      <td>4.372125</td>\n",
       "      <td>4.366898</td>\n",
       "      <td>4.348996</td>\n",
       "      <td>4.379537</td>\n",
       "      <td>...</td>\n",
       "      <td>4.167556</td>\n",
       "      <td>3.804448</td>\n",
       "      <td>3.985878</td>\n",
       "      <td>4.241136</td>\n",
       "      <td>4.112958</td>\n",
       "      <td>4.140484</td>\n",
       "      <td>4.201599</td>\n",
       "      <td>4.261414</td>\n",
       "      <td>4.914143</td>\n",
       "      <td>4.873635</td>\n",
       "    </tr>\n",
       "    <tr>\n",
       "      <th>4</th>\n",
       "      <td>Angola</td>\n",
       "      <td>AGO</td>\n",
       "      <td>Unemployment, total (% of total labor force) (...</td>\n",
       "      <td>SL.UEM.TOTL.ZS</td>\n",
       "      <td>4.489000</td>\n",
       "      <td>4.487000</td>\n",
       "      <td>4.531000</td>\n",
       "      <td>4.395000</td>\n",
       "      <td>4.304000</td>\n",
       "      <td>4.274000</td>\n",
       "      <td>...</td>\n",
       "      <td>8.064000</td>\n",
       "      <td>8.834000</td>\n",
       "      <td>9.580000</td>\n",
       "      <td>9.584000</td>\n",
       "      <td>9.586000</td>\n",
       "      <td>9.535000</td>\n",
       "      <td>9.522000</td>\n",
       "      <td>9.481000</td>\n",
       "      <td>10.350000</td>\n",
       "      <td>10.384000</td>\n",
       "    </tr>\n",
       "    <tr>\n",
       "      <th>...</th>\n",
       "      <td>...</td>\n",
       "      <td>...</td>\n",
       "      <td>...</td>\n",
       "      <td>...</td>\n",
       "      <td>...</td>\n",
       "      <td>...</td>\n",
       "      <td>...</td>\n",
       "      <td>...</td>\n",
       "      <td>...</td>\n",
       "      <td>...</td>\n",
       "      <td>...</td>\n",
       "      <td>...</td>\n",
       "      <td>...</td>\n",
       "      <td>...</td>\n",
       "      <td>...</td>\n",
       "      <td>...</td>\n",
       "      <td>...</td>\n",
       "      <td>...</td>\n",
       "      <td>...</td>\n",
       "      <td>...</td>\n",
       "      <td>...</td>\n",
       "    </tr>\n",
       "    <tr>\n",
       "      <th>261</th>\n",
       "      <td>Kosovo</td>\n",
       "      <td>XKX</td>\n",
       "      <td>Unemployment, total (% of total labor force) (...</td>\n",
       "      <td>SL.UEM.TOTL.ZS</td>\n",
       "      <td>NaN</td>\n",
       "      <td>NaN</td>\n",
       "      <td>NaN</td>\n",
       "      <td>NaN</td>\n",
       "      <td>NaN</td>\n",
       "      <td>NaN</td>\n",
       "      <td>...</td>\n",
       "      <td>NaN</td>\n",
       "      <td>NaN</td>\n",
       "      <td>NaN</td>\n",
       "      <td>NaN</td>\n",
       "      <td>NaN</td>\n",
       "      <td>NaN</td>\n",
       "      <td>NaN</td>\n",
       "      <td>NaN</td>\n",
       "      <td>NaN</td>\n",
       "      <td>NaN</td>\n",
       "    </tr>\n",
       "    <tr>\n",
       "      <th>262</th>\n",
       "      <td>Yemen, Rep.</td>\n",
       "      <td>YEM</td>\n",
       "      <td>Unemployment, total (% of total labor force) (...</td>\n",
       "      <td>SL.UEM.TOTL.ZS</td>\n",
       "      <td>8.342000</td>\n",
       "      <td>8.325000</td>\n",
       "      <td>8.365000</td>\n",
       "      <td>8.340000</td>\n",
       "      <td>8.967000</td>\n",
       "      <td>9.595000</td>\n",
       "      <td>...</td>\n",
       "      <td>13.165000</td>\n",
       "      <td>13.264000</td>\n",
       "      <td>13.470000</td>\n",
       "      <td>13.783000</td>\n",
       "      <td>13.407000</td>\n",
       "      <td>13.250000</td>\n",
       "      <td>13.076000</td>\n",
       "      <td>12.978000</td>\n",
       "      <td>13.575000</td>\n",
       "      <td>13.887000</td>\n",
       "    </tr>\n",
       "    <tr>\n",
       "      <th>263</th>\n",
       "      <td>South Africa</td>\n",
       "      <td>ZAF</td>\n",
       "      <td>Unemployment, total (% of total labor force) (...</td>\n",
       "      <td>SL.UEM.TOTL.ZS</td>\n",
       "      <td>21.194000</td>\n",
       "      <td>21.159000</td>\n",
       "      <td>20.971001</td>\n",
       "      <td>20.827999</td>\n",
       "      <td>20.750000</td>\n",
       "      <td>20.627001</td>\n",
       "      <td>...</td>\n",
       "      <td>21.790001</td>\n",
       "      <td>22.040001</td>\n",
       "      <td>22.610001</td>\n",
       "      <td>22.870001</td>\n",
       "      <td>24.020000</td>\n",
       "      <td>23.990000</td>\n",
       "      <td>24.219999</td>\n",
       "      <td>25.540001</td>\n",
       "      <td>24.340000</td>\n",
       "      <td>28.770000</td>\n",
       "    </tr>\n",
       "    <tr>\n",
       "      <th>264</th>\n",
       "      <td>Zambia</td>\n",
       "      <td>ZMB</td>\n",
       "      <td>Unemployment, total (% of total labor force) (...</td>\n",
       "      <td>SL.UEM.TOTL.ZS</td>\n",
       "      <td>18.900000</td>\n",
       "      <td>19.459999</td>\n",
       "      <td>19.700001</td>\n",
       "      <td>18.679001</td>\n",
       "      <td>16.858000</td>\n",
       "      <td>15.300000</td>\n",
       "      <td>...</td>\n",
       "      <td>7.850000</td>\n",
       "      <td>8.005000</td>\n",
       "      <td>8.133000</td>\n",
       "      <td>8.280000</td>\n",
       "      <td>8.393000</td>\n",
       "      <td>8.520000</td>\n",
       "      <td>5.030000</td>\n",
       "      <td>5.540000</td>\n",
       "      <td>6.030000</td>\n",
       "      <td>6.220000</td>\n",
       "    </tr>\n",
       "    <tr>\n",
       "      <th>265</th>\n",
       "      <td>Zimbabwe</td>\n",
       "      <td>ZWE</td>\n",
       "      <td>Unemployment, total (% of total labor force) (...</td>\n",
       "      <td>SL.UEM.TOTL.ZS</td>\n",
       "      <td>4.997000</td>\n",
       "      <td>5.069000</td>\n",
       "      <td>5.010000</td>\n",
       "      <td>4.960000</td>\n",
       "      <td>5.654000</td>\n",
       "      <td>6.236000</td>\n",
       "      <td>...</td>\n",
       "      <td>5.139000</td>\n",
       "      <td>4.994000</td>\n",
       "      <td>4.770000</td>\n",
       "      <td>5.282000</td>\n",
       "      <td>5.796000</td>\n",
       "      <td>6.279000</td>\n",
       "      <td>6.784000</td>\n",
       "      <td>7.370000</td>\n",
       "      <td>7.898000</td>\n",
       "      <td>8.067000</td>\n",
       "    </tr>\n",
       "  </tbody>\n",
       "</table>\n",
       "<p>266 rows × 35 columns</p>\n",
       "</div>"
      ],
      "text/plain": [
       "                         Country CountryCode  \\\n",
       "0                          Aruba         ABW   \n",
       "1    Africa Eastern and Southern         AFE   \n",
       "2                    Afghanistan         AFG   \n",
       "3     Africa Western and Central         AFW   \n",
       "4                         Angola         AGO   \n",
       "..                           ...         ...   \n",
       "261                       Kosovo         XKX   \n",
       "262                  Yemen, Rep.         YEM   \n",
       "263                 South Africa         ZAF   \n",
       "264                       Zambia         ZMB   \n",
       "265                     Zimbabwe         ZWE   \n",
       "\n",
       "                                         IndicatorName   IndicatorCode  \\\n",
       "0    Unemployment, total (% of total labor force) (...  SL.UEM.TOTL.ZS   \n",
       "1    Unemployment, total (% of total labor force) (...  SL.UEM.TOTL.ZS   \n",
       "2    Unemployment, total (% of total labor force) (...  SL.UEM.TOTL.ZS   \n",
       "3    Unemployment, total (% of total labor force) (...  SL.UEM.TOTL.ZS   \n",
       "4    Unemployment, total (% of total labor force) (...  SL.UEM.TOTL.ZS   \n",
       "..                                                 ...             ...   \n",
       "261  Unemployment, total (% of total labor force) (...  SL.UEM.TOTL.ZS   \n",
       "262  Unemployment, total (% of total labor force) (...  SL.UEM.TOTL.ZS   \n",
       "263  Unemployment, total (% of total labor force) (...  SL.UEM.TOTL.ZS   \n",
       "264  Unemployment, total (% of total labor force) (...  SL.UEM.TOTL.ZS   \n",
       "265  Unemployment, total (% of total labor force) (...  SL.UEM.TOTL.ZS   \n",
       "\n",
       "          1991       1992       1993       1994       1995       1996  ...  \\\n",
       "0          NaN        NaN        NaN        NaN        NaN        NaN  ...   \n",
       "1     7.333336   7.318747   7.242706   7.160694   7.063796   7.055998  ...   \n",
       "2     8.121000   8.168000   8.123000   8.111000   8.260000   8.165000  ...   \n",
       "3     4.224595   4.335460   4.372125   4.366898   4.348996   4.379537  ...   \n",
       "4     4.489000   4.487000   4.531000   4.395000   4.304000   4.274000  ...   \n",
       "..         ...        ...        ...        ...        ...        ...  ...   \n",
       "261        NaN        NaN        NaN        NaN        NaN        NaN  ...   \n",
       "262   8.342000   8.325000   8.365000   8.340000   8.967000   9.595000  ...   \n",
       "263  21.194000  21.159000  20.971001  20.827999  20.750000  20.627001  ...   \n",
       "264  18.900000  19.459999  19.700001  18.679001  16.858000  15.300000  ...   \n",
       "265   4.997000   5.069000   5.010000   4.960000   5.654000   6.236000  ...   \n",
       "\n",
       "          2012       2013       2014       2015       2016       2017  \\\n",
       "0          NaN        NaN        NaN        NaN        NaN        NaN   \n",
       "1     6.599356   6.512784   6.555645   6.707142   6.855589   6.940365   \n",
       "2     8.019000   7.949000   7.910000   8.989000  10.086000  11.180000   \n",
       "3     4.167556   3.804448   3.985878   4.241136   4.112958   4.140484   \n",
       "4     8.064000   8.834000   9.580000   9.584000   9.586000   9.535000   \n",
       "..         ...        ...        ...        ...        ...        ...   \n",
       "261        NaN        NaN        NaN        NaN        NaN        NaN   \n",
       "262  13.165000  13.264000  13.470000  13.783000  13.407000  13.250000   \n",
       "263  21.790001  22.040001  22.610001  22.870001  24.020000  23.990000   \n",
       "264   7.850000   8.005000   8.133000   8.280000   8.393000   8.520000   \n",
       "265   5.139000   4.994000   4.770000   5.282000   5.796000   6.279000   \n",
       "\n",
       "          2018       2019       2020       2021  \n",
       "0          NaN        NaN        NaN        NaN  \n",
       "1     6.913046   7.121664   7.631303   7.920219  \n",
       "2    11.110000  11.085000  11.710000        NaN  \n",
       "3     4.201599   4.261414   4.914143   4.873635  \n",
       "4     9.522000   9.481000  10.350000  10.384000  \n",
       "..         ...        ...        ...        ...  \n",
       "261        NaN        NaN        NaN        NaN  \n",
       "262  13.076000  12.978000  13.575000  13.887000  \n",
       "263  24.219999  25.540001  24.340000  28.770000  \n",
       "264   5.030000   5.540000   6.030000   6.220000  \n",
       "265   6.784000   7.370000   7.898000   8.067000  \n",
       "\n",
       "[266 rows x 35 columns]"
      ]
     },
     "execution_count": 14,
     "metadata": {},
     "output_type": "execute_result"
    }
   ],
   "source": [
    "df1=sqlio.read_sql_query(sql,conn2)\n",
    "df1"
   ]
  },
  {
   "cell_type": "code",
   "execution_count": 15,
   "id": "84e53c7e",
   "metadata": {},
   "outputs": [
    {
     "data": {
      "text/plain": [
       "<AxesSubplot:>"
      ]
     },
     "execution_count": 15,
     "metadata": {},
     "output_type": "execute_result"
    },
    {
     "data": {
      "image/png": "[encoded data removed]",
      "text/plain": [
       "<Figure size 2500x1000 with 2 Axes>"
      ]
     },
     "metadata": {},
     "output_type": "display_data"
    }
   ],
   "source": [
    "msno.matrix(df1)"
   ]
  },
  {
   "cell_type": "code",
   "execution_count": 16,
   "id": "06960441",
   "metadata": {},
   "outputs": [],
   "source": [
    "# we decide to drop the row the contain values that less than 5 in a row\n",
    "df1new = df1.dropna(thresh = 5)"
   ]
  },
  {
   "cell_type": "code",
   "execution_count": 17,
   "id": "cd7ab176",
   "metadata": {},
   "outputs": [
    {
     "name": "stdout",
     "output_type": "stream",
     "text": [
      "Row: 1, Column: 2021\n",
      "Row: 140, Column: 2021\n"
     ]
    }
   ],
   "source": [
    "missing_rows, missing_cols = np.where(df1new.isnull())\n",
    "# Create a list of missing value locations\n",
    "missing_locations = list(zip(missing_rows, missing_cols))\n",
    "# Show the missing value at which row and which column\n",
    "for row, col in missing_locations:\n",
    "    print(f\"Row: {row}, Column: {df1new.columns[col]}\")"
   ]
  },
  {
   "cell_type": "code",
   "execution_count": 18,
   "id": "439a61b0",
   "metadata": {},
   "outputs": [],
   "source": [
    "import pandas as pd\n",
    "from sklearn.linear_model import LinearRegression\n",
    "\n",
    "def replace_missing_with_linear_regression(df1new, column):\n",
    "    # Split the DataFrame into two parts: one with non-null values and another with null values for the column\n",
    "    df_notnull = df1new[df1new[column].notnull()]\n",
    "    df_null = df1new[df1new[column].isnull()]\n",
    "\n",
    "    # Drop non-numeric columns\n",
    "    df_notnull_numeric = df_notnull.select_dtypes(include=['number'])\n",
    "    df_null_numeric = df_null.select_dtypes(include=['number'])\n",
    "\n",
    "    # Create a linear regression model\n",
    "    model = LinearRegression()\n",
    "\n",
    "    # Fit the model using the non-null values of the column as the dependent variable and other columns as independent variables\n",
    "    X = df_notnull_numeric.drop(column, axis=1)\n",
    "    y = df_notnull_numeric[column]\n",
    "    model.fit(X, y)\n",
    "\n",
    "    # Use the fitted model to predict the missing values\n",
    "    X_pred = df_null_numeric.drop(column, axis=1)\n",
    "    y_pred = model.predict(X_pred)\n",
    "\n",
    "    # Replace the missing values with the predicted values in the DataFrame\n",
    "    df1new.loc[df1new[column].isnull(), column] = y_pred\n",
    "\n",
    "    return df1new\n",
    "\n",
    "df1new = replace_missing_with_linear_regression(df1new, '2021')"
   ]
  },
  {
   "cell_type": "code",
   "execution_count": 19,
   "id": "1fee74df",
   "metadata": {},
   "outputs": [
    {
     "name": "stdout",
     "output_type": "stream",
     "text": [
      "Summation of Missing Values: 0\n"
     ]
    }
   ],
   "source": [
    "print(\"Summation of Missing Values:\", df1new.isnull().sum().sum())"
   ]
  },
  {
   "cell_type": "code",
   "execution_count": 20,
   "id": "5cbcc737",
   "metadata": {},
   "outputs": [],
   "source": [
    "# we decide to drop some column of year because is hard to do visualization when connect with other dataset\n",
    "df1newnew = df1new.drop(['IndicatorName','IndicatorCode','1991', '1992', '1993', '1994', '1996','1997','1998','1999'], axis=1)"
   ]
  },
  {
   "cell_type": "code",
   "execution_count": 21,
   "id": "0308bbf1",
   "metadata": {},
   "outputs": [],
   "source": [
    "df1newnew.to_csv(\"Unemployment_Rate.csv\", index=False)"
   ]
  },
  {
   "cell_type": "code",
   "execution_count": 22,
   "id": "50d1456f",
   "metadata": {},
   "outputs": [],
   "source": [
    "sql=\"\"\"SELECT * FROM \"Global_Hunger_Index\" \"\"\""
   ]
  },
  {
   "cell_type": "code",
   "execution_count": 23,
   "id": "1941b303",
   "metadata": {},
   "outputs": [
    {
     "name": "stderr",
     "output_type": "stream",
     "text": [
      "C:\\Users\\limbi\\anaconda3\\lib\\site-packages\\pandas\\io\\sql.py:762: UserWarning: pandas only support SQLAlchemy connectable(engine/connection) ordatabase string URI or sqlite3 DBAPI2 connectionother DBAPI2 objects are not tested, please consider using SQLAlchemy\n",
      "  warnings.warn(\n"
     ]
    },
    {
     "data": {
      "text/html": [
       "<div>\n",
       "<style scoped>\n",
       "    .dataframe tbody tr th:only-of-type {\n",
       "        vertical-align: middle;\n",
       "    }\n",
       "\n",
       "    .dataframe tbody tr th {\n",
       "        vertical-align: top;\n",
       "    }\n",
       "\n",
       "    .dataframe thead th {\n",
       "        text-align: right;\n",
       "    }\n",
       "</style>\n",
       "<table border=\"1\" class=\"dataframe\">\n",
       "  <thead>\n",
       "    <tr style=\"text-align: right;\">\n",
       "      <th></th>\n",
       "      <th>Country</th>\n",
       "      <th>CountryCode</th>\n",
       "      <th>Year</th>\n",
       "      <th>GlobalHungerIndex</th>\n",
       "      <th>411773Annotations</th>\n",
       "    </tr>\n",
       "  </thead>\n",
       "  <tbody>\n",
       "    <tr>\n",
       "      <th>0</th>\n",
       "      <td>Afghanistan</td>\n",
       "      <td>AFG</td>\n",
       "      <td>2000</td>\n",
       "      <td>50.9</td>\n",
       "      <td>None</td>\n",
       "    </tr>\n",
       "    <tr>\n",
       "      <th>1</th>\n",
       "      <td>Afghanistan</td>\n",
       "      <td>AFG</td>\n",
       "      <td>2006</td>\n",
       "      <td>42.7</td>\n",
       "      <td>None</td>\n",
       "    </tr>\n",
       "    <tr>\n",
       "      <th>2</th>\n",
       "      <td>Afghanistan</td>\n",
       "      <td>AFG</td>\n",
       "      <td>2012</td>\n",
       "      <td>34.3</td>\n",
       "      <td>None</td>\n",
       "    </tr>\n",
       "    <tr>\n",
       "      <th>3</th>\n",
       "      <td>Afghanistan</td>\n",
       "      <td>AFG</td>\n",
       "      <td>2021</td>\n",
       "      <td>28.3</td>\n",
       "      <td>None</td>\n",
       "    </tr>\n",
       "    <tr>\n",
       "      <th>4</th>\n",
       "      <td>Albania</td>\n",
       "      <td>ALB</td>\n",
       "      <td>2000</td>\n",
       "      <td>20.7</td>\n",
       "      <td>None</td>\n",
       "    </tr>\n",
       "    <tr>\n",
       "      <th>...</th>\n",
       "      <td>...</td>\n",
       "      <td>...</td>\n",
       "      <td>...</td>\n",
       "      <td>...</td>\n",
       "      <td>...</td>\n",
       "    </tr>\n",
       "    <tr>\n",
       "      <th>466</th>\n",
       "      <td>Yemen</td>\n",
       "      <td>YEM</td>\n",
       "      <td>2006</td>\n",
       "      <td>38.8</td>\n",
       "      <td>None</td>\n",
       "    </tr>\n",
       "    <tr>\n",
       "      <th>467</th>\n",
       "      <td>Yemen</td>\n",
       "      <td>YEM</td>\n",
       "      <td>2012</td>\n",
       "      <td>38.4</td>\n",
       "      <td>None</td>\n",
       "    </tr>\n",
       "    <tr>\n",
       "      <th>468</th>\n",
       "      <td>Yemen</td>\n",
       "      <td>YEM</td>\n",
       "      <td>2021</td>\n",
       "      <td>45.1</td>\n",
       "      <td>None</td>\n",
       "    </tr>\n",
       "    <tr>\n",
       "      <th>469</th>\n",
       "      <td>Zambia</td>\n",
       "      <td>ZMB</td>\n",
       "      <td>2021</td>\n",
       "      <td>27.5</td>\n",
       "      <td>Value represents the mid-point of its group in...</td>\n",
       "    </tr>\n",
       "    <tr>\n",
       "      <th>470</th>\n",
       "      <td>Zimbabwe</td>\n",
       "      <td>ZWE</td>\n",
       "      <td>2021</td>\n",
       "      <td>27.5</td>\n",
       "      <td>Value represents the mid-point of its group in...</td>\n",
       "    </tr>\n",
       "  </tbody>\n",
       "</table>\n",
       "<p>471 rows × 5 columns</p>\n",
       "</div>"
      ],
      "text/plain": [
       "         Country CountryCode  Year  GlobalHungerIndex  \\\n",
       "0    Afghanistan         AFG  2000               50.9   \n",
       "1    Afghanistan         AFG  2006               42.7   \n",
       "2    Afghanistan         AFG  2012               34.3   \n",
       "3    Afghanistan         AFG  2021               28.3   \n",
       "4        Albania         ALB  2000               20.7   \n",
       "..           ...         ...   ...                ...   \n",
       "466        Yemen         YEM  2006               38.8   \n",
       "467        Yemen         YEM  2012               38.4   \n",
       "468        Yemen         YEM  2021               45.1   \n",
       "469       Zambia         ZMB  2021               27.5   \n",
       "470     Zimbabwe         ZWE  2021               27.5   \n",
       "\n",
       "                                     411773Annotations  \n",
       "0                                                 None  \n",
       "1                                                 None  \n",
       "2                                                 None  \n",
       "3                                                 None  \n",
       "4                                                 None  \n",
       "..                                                 ...  \n",
       "466                                               None  \n",
       "467                                               None  \n",
       "468                                               None  \n",
       "469  Value represents the mid-point of its group in...  \n",
       "470  Value represents the mid-point of its group in...  \n",
       "\n",
       "[471 rows x 5 columns]"
      ]
     },
     "execution_count": 23,
     "metadata": {},
     "output_type": "execute_result"
    }
   ],
   "source": [
    "df2=sqlio.read_sql_query(sql,conn2)\n",
    "df2"
   ]
  },
  {
   "cell_type": "code",
   "execution_count": 24,
   "id": "9e5b8d07",
   "metadata": {},
   "outputs": [
    {
     "data": {
      "text/plain": [
       "<AxesSubplot:>"
      ]
     },
     "execution_count": 24,
     "metadata": {},
     "output_type": "execute_result"
    },
    {
     "data": {
      "image/png": "[encoded data removed]",
      "text/plain": [
       "<Figure size 2500x1000 with 2 Axes>"
      ]
     },
     "metadata": {},
     "output_type": "display_data"
    }
   ],
   "source": [
    "msno.matrix(df2)"
   ]
  },
  {
   "cell_type": "code",
   "execution_count": 25,
   "id": "1702cfb0",
   "metadata": {},
   "outputs": [],
   "source": [
    "# we decide to drop the column 411773Annotations because it is too many null value.\n",
    "df2new = df2.dropna(axis = 1)"
   ]
  },
  {
   "cell_type": "code",
   "execution_count": 26,
   "id": "1ca892cf",
   "metadata": {},
   "outputs": [
    {
     "data": {
      "text/html": [
       "<div>\n",
       "<style scoped>\n",
       "    .dataframe tbody tr th:only-of-type {\n",
       "        vertical-align: middle;\n",
       "    }\n",
       "\n",
       "    .dataframe tbody tr th {\n",
       "        vertical-align: top;\n",
       "    }\n",
       "\n",
       "    .dataframe thead th {\n",
       "        text-align: right;\n",
       "    }\n",
       "</style>\n",
       "<table border=\"1\" class=\"dataframe\">\n",
       "  <thead>\n",
       "    <tr style=\"text-align: right;\">\n",
       "      <th></th>\n",
       "      <th>Country</th>\n",
       "      <th>CountryCode</th>\n",
       "      <th>Year</th>\n",
       "      <th>GlobalHungerIndex</th>\n",
       "    </tr>\n",
       "  </thead>\n",
       "  <tbody>\n",
       "    <tr>\n",
       "      <th>0</th>\n",
       "      <td>Afghanistan</td>\n",
       "      <td>AFG</td>\n",
       "      <td>2000</td>\n",
       "      <td>50.9</td>\n",
       "    </tr>\n",
       "    <tr>\n",
       "      <th>1</th>\n",
       "      <td>Afghanistan</td>\n",
       "      <td>AFG</td>\n",
       "      <td>2006</td>\n",
       "      <td>42.7</td>\n",
       "    </tr>\n",
       "    <tr>\n",
       "      <th>2</th>\n",
       "      <td>Afghanistan</td>\n",
       "      <td>AFG</td>\n",
       "      <td>2012</td>\n",
       "      <td>34.3</td>\n",
       "    </tr>\n",
       "    <tr>\n",
       "      <th>3</th>\n",
       "      <td>Afghanistan</td>\n",
       "      <td>AFG</td>\n",
       "      <td>2021</td>\n",
       "      <td>28.3</td>\n",
       "    </tr>\n",
       "    <tr>\n",
       "      <th>4</th>\n",
       "      <td>Albania</td>\n",
       "      <td>ALB</td>\n",
       "      <td>2000</td>\n",
       "      <td>20.7</td>\n",
       "    </tr>\n",
       "    <tr>\n",
       "      <th>...</th>\n",
       "      <td>...</td>\n",
       "      <td>...</td>\n",
       "      <td>...</td>\n",
       "      <td>...</td>\n",
       "    </tr>\n",
       "    <tr>\n",
       "      <th>466</th>\n",
       "      <td>Yemen</td>\n",
       "      <td>YEM</td>\n",
       "      <td>2006</td>\n",
       "      <td>38.8</td>\n",
       "    </tr>\n",
       "    <tr>\n",
       "      <th>467</th>\n",
       "      <td>Yemen</td>\n",
       "      <td>YEM</td>\n",
       "      <td>2012</td>\n",
       "      <td>38.4</td>\n",
       "    </tr>\n",
       "    <tr>\n",
       "      <th>468</th>\n",
       "      <td>Yemen</td>\n",
       "      <td>YEM</td>\n",
       "      <td>2021</td>\n",
       "      <td>45.1</td>\n",
       "    </tr>\n",
       "    <tr>\n",
       "      <th>469</th>\n",
       "      <td>Zambia</td>\n",
       "      <td>ZMB</td>\n",
       "      <td>2021</td>\n",
       "      <td>27.5</td>\n",
       "    </tr>\n",
       "    <tr>\n",
       "      <th>470</th>\n",
       "      <td>Zimbabwe</td>\n",
       "      <td>ZWE</td>\n",
       "      <td>2021</td>\n",
       "      <td>27.5</td>\n",
       "    </tr>\n",
       "  </tbody>\n",
       "</table>\n",
       "<p>471 rows × 4 columns</p>\n",
       "</div>"
      ],
      "text/plain": [
       "         Country CountryCode  Year  GlobalHungerIndex\n",
       "0    Afghanistan         AFG  2000               50.9\n",
       "1    Afghanistan         AFG  2006               42.7\n",
       "2    Afghanistan         AFG  2012               34.3\n",
       "3    Afghanistan         AFG  2021               28.3\n",
       "4        Albania         ALB  2000               20.7\n",
       "..           ...         ...   ...                ...\n",
       "466        Yemen         YEM  2006               38.8\n",
       "467        Yemen         YEM  2012               38.4\n",
       "468        Yemen         YEM  2021               45.1\n",
       "469       Zambia         ZMB  2021               27.5\n",
       "470     Zimbabwe         ZWE  2021               27.5\n",
       "\n",
       "[471 rows x 4 columns]"
      ]
     },
     "execution_count": 26,
     "metadata": {},
     "output_type": "execute_result"
    }
   ],
   "source": [
    "df2new"
   ]
  },
  {
   "cell_type": "code",
   "execution_count": 27,
   "id": "0c1eaa48",
   "metadata": {},
   "outputs": [
    {
     "name": "stdout",
     "output_type": "stream",
     "text": [
      "Summation of Missing Values: 0\n"
     ]
    }
   ],
   "source": [
    "print(\"Summation of Missing Values:\", df2new.isnull().sum().sum())"
   ]
  },
  {
   "cell_type": "code",
   "execution_count": 28,
   "id": "db35eefb",
   "metadata": {},
   "outputs": [],
   "source": [
    "df2new.to_csv(\"Global_Hunger_Index.csv\", index=False)"
   ]
  },
  {
   "cell_type": "code",
   "execution_count": 29,
   "id": "56fcfca2",
   "metadata": {},
   "outputs": [],
   "source": [
    "sql=\"\"\"SELECT * FROM \"Income_by_Country\" \"\"\""
   ]
  },
  {
   "cell_type": "code",
   "execution_count": 30,
   "id": "4422fbc7",
   "metadata": {},
   "outputs": [
    {
     "name": "stderr",
     "output_type": "stream",
     "text": [
      "C:\\Users\\limbi\\anaconda3\\lib\\site-packages\\pandas\\io\\sql.py:762: UserWarning: pandas only support SQLAlchemy connectable(engine/connection) ordatabase string URI or sqlite3 DBAPI2 connectionother DBAPI2 objects are not tested, please consider using SQLAlchemy\n",
      "  warnings.warn(\n"
     ]
    },
    {
     "data": {
      "text/html": [
       "<div>\n",
       "<style scoped>\n",
       "    .dataframe tbody tr th:only-of-type {\n",
       "        vertical-align: middle;\n",
       "    }\n",
       "\n",
       "    .dataframe tbody tr th {\n",
       "        vertical-align: top;\n",
       "    }\n",
       "\n",
       "    .dataframe thead th {\n",
       "        text-align: right;\n",
       "    }\n",
       "</style>\n",
       "<table border=\"1\" class=\"dataframe\">\n",
       "  <thead>\n",
       "    <tr style=\"text-align: right;\">\n",
       "      <th></th>\n",
       "      <th>Country</th>\n",
       "      <th>1990</th>\n",
       "      <th>1995</th>\n",
       "      <th>2000</th>\n",
       "      <th>2005</th>\n",
       "      <th>2010</th>\n",
       "      <th>2011</th>\n",
       "      <th>2012</th>\n",
       "      <th>2013</th>\n",
       "      <th>2014</th>\n",
       "      <th>2015</th>\n",
       "      <th>2016</th>\n",
       "      <th>2017</th>\n",
       "      <th>2018</th>\n",
       "      <th>info</th>\n",
       "    </tr>\n",
       "  </thead>\n",
       "  <tbody>\n",
       "    <tr>\n",
       "      <th>0</th>\n",
       "      <td>Afghanistan</td>\n",
       "      <td>0.0</td>\n",
       "      <td>0.0</td>\n",
       "      <td>0.0</td>\n",
       "      <td>28.2</td>\n",
       "      <td>48.8</td>\n",
       "      <td>49.0</td>\n",
       "      <td>55.2</td>\n",
       "      <td>58.3</td>\n",
       "      <td>59.9</td>\n",
       "      <td>60.8</td>\n",
       "      <td>62.2</td>\n",
       "      <td>63.8</td>\n",
       "      <td>64.5</td>\n",
       "      <td>0</td>\n",
       "    </tr>\n",
       "    <tr>\n",
       "      <th>1</th>\n",
       "      <td>Albania</td>\n",
       "      <td>14.7</td>\n",
       "      <td>13.2</td>\n",
       "      <td>16.8</td>\n",
       "      <td>22.4</td>\n",
       "      <td>28.9</td>\n",
       "      <td>29.7</td>\n",
       "      <td>30.1</td>\n",
       "      <td>30.4</td>\n",
       "      <td>30.9</td>\n",
       "      <td>31.6</td>\n",
       "      <td>32.7</td>\n",
       "      <td>33.9</td>\n",
       "      <td>35.3</td>\n",
       "      <td>0</td>\n",
       "    </tr>\n",
       "    <tr>\n",
       "      <th>2</th>\n",
       "      <td>Algeria</td>\n",
       "      <td>265.3</td>\n",
       "      <td>268.7</td>\n",
       "      <td>318.4</td>\n",
       "      <td>410.2</td>\n",
       "      <td>464.9</td>\n",
       "      <td>478.3</td>\n",
       "      <td>494.4</td>\n",
       "      <td>508.1</td>\n",
       "      <td>527.4</td>\n",
       "      <td>547.2</td>\n",
       "      <td>565.3</td>\n",
       "      <td>574.3</td>\n",
       "      <td>586.4</td>\n",
       "      <td>0</td>\n",
       "    </tr>\n",
       "    <tr>\n",
       "      <th>3</th>\n",
       "      <td>Angola</td>\n",
       "      <td>56.4</td>\n",
       "      <td>47.5</td>\n",
       "      <td>63.8</td>\n",
       "      <td>99.4</td>\n",
       "      <td>148.6</td>\n",
       "      <td>153.7</td>\n",
       "      <td>166.8</td>\n",
       "      <td>175.1</td>\n",
       "      <td>183.6</td>\n",
       "      <td>185.3</td>\n",
       "      <td>180.5</td>\n",
       "      <td>180.2</td>\n",
       "      <td>176.4</td>\n",
       "      <td>0</td>\n",
       "    </tr>\n",
       "    <tr>\n",
       "      <th>4</th>\n",
       "      <td>Antigua and Barbuda</td>\n",
       "      <td>1.1</td>\n",
       "      <td>1.2</td>\n",
       "      <td>1.6</td>\n",
       "      <td>1.8</td>\n",
       "      <td>1.8</td>\n",
       "      <td>1.8</td>\n",
       "      <td>1.8</td>\n",
       "      <td>1.8</td>\n",
       "      <td>1.9</td>\n",
       "      <td>2.0</td>\n",
       "      <td>2.1</td>\n",
       "      <td>2.2</td>\n",
       "      <td>2.3</td>\n",
       "      <td>0</td>\n",
       "    </tr>\n",
       "    <tr>\n",
       "      <th>...</th>\n",
       "      <td>...</td>\n",
       "      <td>...</td>\n",
       "      <td>...</td>\n",
       "      <td>...</td>\n",
       "      <td>...</td>\n",
       "      <td>...</td>\n",
       "      <td>...</td>\n",
       "      <td>...</td>\n",
       "      <td>...</td>\n",
       "      <td>...</td>\n",
       "      <td>...</td>\n",
       "      <td>...</td>\n",
       "      <td>...</td>\n",
       "      <td>...</td>\n",
       "      <td>...</td>\n",
       "    </tr>\n",
       "    <tr>\n",
       "      <th>413</th>\n",
       "      <td>Sub-Saharan Africa</td>\n",
       "      <td>1276.2</td>\n",
       "      <td>1319.8</td>\n",
       "      <td>1555.9</td>\n",
       "      <td>2045.0</td>\n",
       "      <td>2706.6</td>\n",
       "      <td>2841.7</td>\n",
       "      <td>2955.3</td>\n",
       "      <td>3113.5</td>\n",
       "      <td>3271.1</td>\n",
       "      <td>3369.4</td>\n",
       "      <td>3416.1</td>\n",
       "      <td>3510.6</td>\n",
       "      <td>3614.0</td>\n",
       "      <td>0</td>\n",
       "    </tr>\n",
       "    <tr>\n",
       "      <th>414</th>\n",
       "      <td>Least Developed Countries</td>\n",
       "      <td>638.5</td>\n",
       "      <td>729.2</td>\n",
       "      <td>926.8</td>\n",
       "      <td>1280.5</td>\n",
       "      <td>1823.9</td>\n",
       "      <td>1897.0</td>\n",
       "      <td>1982.4</td>\n",
       "      <td>2100.6</td>\n",
       "      <td>2218.2</td>\n",
       "      <td>2311.4</td>\n",
       "      <td>2406.3</td>\n",
       "      <td>2531.9</td>\n",
       "      <td>2651.3</td>\n",
       "      <td>0</td>\n",
       "    </tr>\n",
       "    <tr>\n",
       "      <th>415</th>\n",
       "      <td>Small Island Developing States</td>\n",
       "      <td>262.0</td>\n",
       "      <td>352.9</td>\n",
       "      <td>449.8</td>\n",
       "      <td>554.6</td>\n",
       "      <td>724.5</td>\n",
       "      <td>757.7</td>\n",
       "      <td>784.8</td>\n",
       "      <td>816.7</td>\n",
       "      <td>848.8</td>\n",
       "      <td>880.2</td>\n",
       "      <td>906.6</td>\n",
       "      <td>935.8</td>\n",
       "      <td>967.7</td>\n",
       "      <td>0</td>\n",
       "    </tr>\n",
       "    <tr>\n",
       "      <th>416</th>\n",
       "      <td>Organization for Economic Co-operation and Dev...</td>\n",
       "      <td>28564.2</td>\n",
       "      <td>32046.8</td>\n",
       "      <td>37975.0</td>\n",
       "      <td>42465.4</td>\n",
       "      <td>44899.5</td>\n",
       "      <td>45806.3</td>\n",
       "      <td>46427.5</td>\n",
       "      <td>47152.6</td>\n",
       "      <td>48178.6</td>\n",
       "      <td>49411.0</td>\n",
       "      <td>50317.0</td>\n",
       "      <td>51593.4</td>\n",
       "      <td>52777.2</td>\n",
       "      <td>0</td>\n",
       "    </tr>\n",
       "    <tr>\n",
       "      <th>417</th>\n",
       "      <td>World</td>\n",
       "      <td>46138.0</td>\n",
       "      <td>52010.1</td>\n",
       "      <td>62551.7</td>\n",
       "      <td>75346.2</td>\n",
       "      <td>90126.2</td>\n",
       "      <td>93694.5</td>\n",
       "      <td>96816.9</td>\n",
       "      <td>100141.6</td>\n",
       "      <td>103664.2</td>\n",
       "      <td>107221.7</td>\n",
       "      <td>110853.5</td>\n",
       "      <td>115024.7</td>\n",
       "      <td>119217.8</td>\n",
       "      <td>0</td>\n",
       "    </tr>\n",
       "  </tbody>\n",
       "</table>\n",
       "<p>418 rows × 15 columns</p>\n",
       "</div>"
      ],
      "text/plain": [
       "                                               Country     1990     1995  \\\n",
       "0                                          Afghanistan      0.0      0.0   \n",
       "1                                              Albania     14.7     13.2   \n",
       "2                                              Algeria    265.3    268.7   \n",
       "3                                               Angola     56.4     47.5   \n",
       "4                                  Antigua and Barbuda      1.1      1.2   \n",
       "..                                                 ...      ...      ...   \n",
       "413                                 Sub-Saharan Africa   1276.2   1319.8   \n",
       "414                          Least Developed Countries    638.5    729.2   \n",
       "415                     Small Island Developing States    262.0    352.9   \n",
       "416  Organization for Economic Co-operation and Dev...  28564.2  32046.8   \n",
       "417                                              World  46138.0  52010.1   \n",
       "\n",
       "        2000     2005     2010     2011     2012      2013      2014  \\\n",
       "0        0.0     28.2     48.8     49.0     55.2      58.3      59.9   \n",
       "1       16.8     22.4     28.9     29.7     30.1      30.4      30.9   \n",
       "2      318.4    410.2    464.9    478.3    494.4     508.1     527.4   \n",
       "3       63.8     99.4    148.6    153.7    166.8     175.1     183.6   \n",
       "4        1.6      1.8      1.8      1.8      1.8       1.8       1.9   \n",
       "..       ...      ...      ...      ...      ...       ...       ...   \n",
       "413   1555.9   2045.0   2706.6   2841.7   2955.3    3113.5    3271.1   \n",
       "414    926.8   1280.5   1823.9   1897.0   1982.4    2100.6    2218.2   \n",
       "415    449.8    554.6    724.5    757.7    784.8     816.7     848.8   \n",
       "416  37975.0  42465.4  44899.5  45806.3  46427.5   47152.6   48178.6   \n",
       "417  62551.7  75346.2  90126.2  93694.5  96816.9  100141.6  103664.2   \n",
       "\n",
       "         2015      2016      2017      2018 info  \n",
       "0        60.8      62.2      63.8      64.5    0  \n",
       "1        31.6      32.7      33.9      35.3    0  \n",
       "2       547.2     565.3     574.3     586.4    0  \n",
       "3       185.3     180.5     180.2     176.4    0  \n",
       "4         2.0       2.1       2.2       2.3    0  \n",
       "..        ...       ...       ...       ...  ...  \n",
       "413    3369.4    3416.1    3510.6    3614.0    0  \n",
       "414    2311.4    2406.3    2531.9    2651.3    0  \n",
       "415     880.2     906.6     935.8     967.7    0  \n",
       "416   49411.0   50317.0   51593.4   52777.2    0  \n",
       "417  107221.7  110853.5  115024.7  119217.8    0  \n",
       "\n",
       "[418 rows x 15 columns]"
      ]
     },
     "execution_count": 30,
     "metadata": {},
     "output_type": "execute_result"
    }
   ],
   "source": [
    "df3=sqlio.read_sql_query(sql,conn2)\n",
    "df3"
   ]
  },
  {
   "cell_type": "code",
   "execution_count": 31,
   "id": "4f2bfdcd",
   "metadata": {},
   "outputs": [
    {
     "data": {
      "text/plain": [
       "<AxesSubplot:>"
      ]
     },
     "execution_count": 31,
     "metadata": {},
     "output_type": "execute_result"
    },
    {
     "data": {
      "image/png": "[encoded data removed]",
      "text/plain": [
       "<Figure size 2500x1000 with 2 Axes>"
      ]
     },
     "metadata": {},
     "output_type": "display_data"
    }
   ],
   "source": [
    "msno.matrix(df3)"
   ]
  },
  {
   "cell_type": "code",
   "execution_count": 32,
   "id": "bf0e21c2",
   "metadata": {},
   "outputs": [
    {
     "data": {
      "text/plain": [
       "0      False\n",
       "1      False\n",
       "2      False\n",
       "3      False\n",
       "4      False\n",
       "       ...  \n",
       "413     True\n",
       "414     True\n",
       "415     True\n",
       "416     True\n",
       "417     True\n",
       "Length: 418, dtype: bool"
      ]
     },
     "execution_count": 32,
     "metadata": {},
     "output_type": "execute_result"
    }
   ],
   "source": [
    "# We decide to drop the row that got duplicated\n",
    "df3.duplicated(subset=\"Country\")"
   ]
  },
  {
   "cell_type": "code",
   "execution_count": 33,
   "id": "831a426b",
   "metadata": {},
   "outputs": [],
   "source": [
    "df3.drop_duplicates(subset='Country', inplace=True)"
   ]
  },
  {
   "cell_type": "code",
   "execution_count": 34,
   "id": "381253a1",
   "metadata": {},
   "outputs": [],
   "source": [
    "df3new = df3.drop(['info'], axis=1)"
   ]
  },
  {
   "cell_type": "code",
   "execution_count": 35,
   "id": "3cc5b11f",
   "metadata": {},
   "outputs": [
    {
     "name": "stdout",
     "output_type": "stream",
     "text": [
      "Summation of Missing Values: 0\n"
     ]
    }
   ],
   "source": [
    "print(\"Summation of Missing Values:\", df3new.isnull().sum().sum())"
   ]
  },
  {
   "cell_type": "code",
   "execution_count": 36,
   "id": "b8551200",
   "metadata": {},
   "outputs": [],
   "source": [
    "df3new.to_csv(\"Income_by_Country.csv\", index=False)"
   ]
  },
  {
   "cell_type": "code",
   "execution_count": 37,
   "id": "95eb3d56",
   "metadata": {},
   "outputs": [],
   "source": [
    "sql=\"\"\"SELECT * FROM \"MPI_National\" \"\"\""
   ]
  },
  {
   "cell_type": "code",
   "execution_count": 38,
   "id": "c9fe4a49",
   "metadata": {},
   "outputs": [
    {
     "name": "stderr",
     "output_type": "stream",
     "text": [
      "C:\\Users\\limbi\\anaconda3\\lib\\site-packages\\pandas\\io\\sql.py:762: UserWarning: pandas only support SQLAlchemy connectable(engine/connection) ordatabase string URI or sqlite3 DBAPI2 connectionother DBAPI2 objects are not tested, please consider using SQLAlchemy\n",
      "  warnings.warn(\n"
     ]
    },
    {
     "data": {
      "text/html": [
       "<div>\n",
       "<style scoped>\n",
       "    .dataframe tbody tr th:only-of-type {\n",
       "        vertical-align: middle;\n",
       "    }\n",
       "\n",
       "    .dataframe tbody tr th {\n",
       "        vertical-align: top;\n",
       "    }\n",
       "\n",
       "    .dataframe thead th {\n",
       "        text-align: right;\n",
       "    }\n",
       "</style>\n",
       "<table border=\"1\" class=\"dataframe\">\n",
       "  <thead>\n",
       "    <tr style=\"text-align: right;\">\n",
       "      <th></th>\n",
       "      <th>ISO</th>\n",
       "      <th>Country</th>\n",
       "      <th>MPI_Urban</th>\n",
       "      <th>Headcount_Ratio_Urban</th>\n",
       "      <th>Intensity_of_Deprivation_Urban</th>\n",
       "      <th>MPI_Rural</th>\n",
       "      <th>Headcount_Ratio_Rural</th>\n",
       "      <th>Intensity_of_Deprivation_Rural</th>\n",
       "    </tr>\n",
       "  </thead>\n",
       "  <tbody>\n",
       "    <tr>\n",
       "      <th>0</th>\n",
       "      <td>KAZ</td>\n",
       "      <td>Kazakhstan</td>\n",
       "      <td>0.000</td>\n",
       "      <td>0.0</td>\n",
       "      <td>33.3</td>\n",
       "      <td>0.000</td>\n",
       "      <td>0.09</td>\n",
       "      <td>33.3</td>\n",
       "    </tr>\n",
       "    <tr>\n",
       "      <th>1</th>\n",
       "      <td>SRB</td>\n",
       "      <td>Serbia</td>\n",
       "      <td>0.000</td>\n",
       "      <td>0.1</td>\n",
       "      <td>41.4</td>\n",
       "      <td>0.002</td>\n",
       "      <td>0.50</td>\n",
       "      <td>40.3</td>\n",
       "    </tr>\n",
       "    <tr>\n",
       "      <th>2</th>\n",
       "      <td>KGZ</td>\n",
       "      <td>Kyrgyzstan</td>\n",
       "      <td>0.000</td>\n",
       "      <td>0.1</td>\n",
       "      <td>40.2</td>\n",
       "      <td>0.003</td>\n",
       "      <td>0.70</td>\n",
       "      <td>37.1</td>\n",
       "    </tr>\n",
       "    <tr>\n",
       "      <th>3</th>\n",
       "      <td>TUN</td>\n",
       "      <td>Tunisia</td>\n",
       "      <td>0.000</td>\n",
       "      <td>0.1</td>\n",
       "      <td>35.6</td>\n",
       "      <td>0.012</td>\n",
       "      <td>3.18</td>\n",
       "      <td>38.7</td>\n",
       "    </tr>\n",
       "    <tr>\n",
       "      <th>4</th>\n",
       "      <td>ARM</td>\n",
       "      <td>Armenia</td>\n",
       "      <td>0.001</td>\n",
       "      <td>0.2</td>\n",
       "      <td>33.3</td>\n",
       "      <td>0.001</td>\n",
       "      <td>0.39</td>\n",
       "      <td>36.9</td>\n",
       "    </tr>\n",
       "    <tr>\n",
       "      <th>...</th>\n",
       "      <td>...</td>\n",
       "      <td>...</td>\n",
       "      <td>...</td>\n",
       "      <td>...</td>\n",
       "      <td>...</td>\n",
       "      <td>...</td>\n",
       "      <td>...</td>\n",
       "      <td>...</td>\n",
       "    </tr>\n",
       "    <tr>\n",
       "      <th>97</th>\n",
       "      <td>CAF</td>\n",
       "      <td>Central African Republic</td>\n",
       "      <td>0.289</td>\n",
       "      <td>58.2</td>\n",
       "      <td>49.7</td>\n",
       "      <td>0.519</td>\n",
       "      <td>89.79</td>\n",
       "      <td>57.8</td>\n",
       "    </tr>\n",
       "    <tr>\n",
       "      <th>98</th>\n",
       "      <td>LBR</td>\n",
       "      <td>Liberia</td>\n",
       "      <td>0.290</td>\n",
       "      <td>60.5</td>\n",
       "      <td>48.0</td>\n",
       "      <td>0.481</td>\n",
       "      <td>84.86</td>\n",
       "      <td>56.6</td>\n",
       "    </tr>\n",
       "    <tr>\n",
       "      <th>99</th>\n",
       "      <td>SOM</td>\n",
       "      <td>Somalia</td>\n",
       "      <td>0.293</td>\n",
       "      <td>55.9</td>\n",
       "      <td>52.4</td>\n",
       "      <td>0.651</td>\n",
       "      <td>96.92</td>\n",
       "      <td>67.2</td>\n",
       "    </tr>\n",
       "    <tr>\n",
       "      <th>100</th>\n",
       "      <td>TCD</td>\n",
       "      <td>Chad</td>\n",
       "      <td>0.351</td>\n",
       "      <td>64.8</td>\n",
       "      <td>54.1</td>\n",
       "      <td>0.609</td>\n",
       "      <td>93.41</td>\n",
       "      <td>65.2</td>\n",
       "    </tr>\n",
       "    <tr>\n",
       "      <th>101</th>\n",
       "      <td>SSD</td>\n",
       "      <td>South Sudan</td>\n",
       "      <td>0.459</td>\n",
       "      <td>82.5</td>\n",
       "      <td>55.7</td>\n",
       "      <td>0.591</td>\n",
       "      <td>94.00</td>\n",
       "      <td>62.8</td>\n",
       "    </tr>\n",
       "  </tbody>\n",
       "</table>\n",
       "<p>102 rows × 8 columns</p>\n",
       "</div>"
      ],
      "text/plain": [
       "     ISO                   Country  MPI_Urban  Headcount_Ratio_Urban  \\\n",
       "0    KAZ                Kazakhstan      0.000                    0.0   \n",
       "1    SRB                    Serbia      0.000                    0.1   \n",
       "2    KGZ                Kyrgyzstan      0.000                    0.1   \n",
       "3    TUN                   Tunisia      0.000                    0.1   \n",
       "4    ARM                   Armenia      0.001                    0.2   \n",
       "..   ...                       ...        ...                    ...   \n",
       "97   CAF  Central African Republic      0.289                   58.2   \n",
       "98   LBR                   Liberia      0.290                   60.5   \n",
       "99   SOM                   Somalia      0.293                   55.9   \n",
       "100  TCD                      Chad      0.351                   64.8   \n",
       "101  SSD               South Sudan      0.459                   82.5   \n",
       "\n",
       "     Intensity_of_Deprivation_Urban  MPI_Rural  Headcount_Ratio_Rural  \\\n",
       "0                              33.3      0.000                   0.09   \n",
       "1                              41.4      0.002                   0.50   \n",
       "2                              40.2      0.003                   0.70   \n",
       "3                              35.6      0.012                   3.18   \n",
       "4                              33.3      0.001                   0.39   \n",
       "..                              ...        ...                    ...   \n",
       "97                             49.7      0.519                  89.79   \n",
       "98                             48.0      0.481                  84.86   \n",
       "99                             52.4      0.651                  96.92   \n",
       "100                            54.1      0.609                  93.41   \n",
       "101                            55.7      0.591                  94.00   \n",
       "\n",
       "     Intensity_of_Deprivation_Rural  \n",
       "0                              33.3  \n",
       "1                              40.3  \n",
       "2                              37.1  \n",
       "3                              38.7  \n",
       "4                              36.9  \n",
       "..                              ...  \n",
       "97                             57.8  \n",
       "98                             56.6  \n",
       "99                             67.2  \n",
       "100                            65.2  \n",
       "101                            62.8  \n",
       "\n",
       "[102 rows x 8 columns]"
      ]
     },
     "execution_count": 38,
     "metadata": {},
     "output_type": "execute_result"
    }
   ],
   "source": [
    "df4=sqlio.read_sql_query(sql,conn2)\n",
    "df4"
   ]
  },
  {
   "cell_type": "code",
   "execution_count": 39,
   "id": "f0addef2",
   "metadata": {
    "scrolled": true
   },
   "outputs": [
    {
     "data": {
      "text/plain": [
       "<AxesSubplot:>"
      ]
     },
     "execution_count": 39,
     "metadata": {},
     "output_type": "execute_result"
    },
    {
     "data": {
      "image/png": "[encoded data removed]",
      "text/plain": [
       "<Figure size 2500x1000 with 2 Axes>"
      ]
     },
     "metadata": {},
     "output_type": "display_data"
    }
   ],
   "source": [
    "msno.matrix(df4)"
   ]
  },
  {
   "cell_type": "code",
   "execution_count": 40,
   "id": "8da196c6",
   "metadata": {},
   "outputs": [
    {
     "name": "stdout",
     "output_type": "stream",
     "text": [
      "Summation of Missing Values: 0\n"
     ]
    }
   ],
   "source": [
    "print(\"Summation of Missing Values:\", df4.isnull().sum().sum())"
   ]
  },
  {
   "cell_type": "code",
   "execution_count": 41,
   "id": "57524481",
   "metadata": {},
   "outputs": [],
   "source": [
    "df4.to_csv(\"MPI_National.csv\", index=False)"
   ]
  },
  {
   "cell_type": "code",
   "execution_count": 42,
   "id": "3946f56d",
   "metadata": {},
   "outputs": [],
   "source": [
    "sql=\"\"\"SELECT * FROM \"Prevalence_of_Undernourishment\" \"\"\""
   ]
  },
  {
   "cell_type": "code",
   "execution_count": 43,
   "id": "6b4cbd8f",
   "metadata": {},
   "outputs": [
    {
     "name": "stderr",
     "output_type": "stream",
     "text": [
      "C:\\Users\\limbi\\anaconda3\\lib\\site-packages\\pandas\\io\\sql.py:762: UserWarning: pandas only support SQLAlchemy connectable(engine/connection) ordatabase string URI or sqlite3 DBAPI2 connectionother DBAPI2 objects are not tested, please consider using SQLAlchemy\n",
      "  warnings.warn(\n"
     ]
    },
    {
     "data": {
      "text/html": [
       "<div>\n",
       "<style scoped>\n",
       "    .dataframe tbody tr th:only-of-type {\n",
       "        vertical-align: middle;\n",
       "    }\n",
       "\n",
       "    .dataframe tbody tr th {\n",
       "        vertical-align: top;\n",
       "    }\n",
       "\n",
       "    .dataframe thead th {\n",
       "        text-align: right;\n",
       "    }\n",
       "</style>\n",
       "<table border=\"1\" class=\"dataframe\">\n",
       "  <thead>\n",
       "    <tr style=\"text-align: right;\">\n",
       "      <th></th>\n",
       "      <th>Country</th>\n",
       "      <th>CountryCode</th>\n",
       "      <th>Year</th>\n",
       "      <th>PrevalenceofUndernourishment</th>\n",
       "    </tr>\n",
       "  </thead>\n",
       "  <tbody>\n",
       "    <tr>\n",
       "      <th>0</th>\n",
       "      <td>Afghanistan</td>\n",
       "      <td>AFG</td>\n",
       "      <td>2001</td>\n",
       "      <td>47.799999</td>\n",
       "    </tr>\n",
       "    <tr>\n",
       "      <th>1</th>\n",
       "      <td>Afghanistan</td>\n",
       "      <td>AFG</td>\n",
       "      <td>2002</td>\n",
       "      <td>45.599998</td>\n",
       "    </tr>\n",
       "    <tr>\n",
       "      <th>2</th>\n",
       "      <td>Afghanistan</td>\n",
       "      <td>AFG</td>\n",
       "      <td>2003</td>\n",
       "      <td>40.599998</td>\n",
       "    </tr>\n",
       "    <tr>\n",
       "      <th>3</th>\n",
       "      <td>Afghanistan</td>\n",
       "      <td>AFG</td>\n",
       "      <td>2004</td>\n",
       "      <td>38.000000</td>\n",
       "    </tr>\n",
       "    <tr>\n",
       "      <th>4</th>\n",
       "      <td>Afghanistan</td>\n",
       "      <td>AFG</td>\n",
       "      <td>2005</td>\n",
       "      <td>36.099998</td>\n",
       "    </tr>\n",
       "    <tr>\n",
       "      <th>...</th>\n",
       "      <td>...</td>\n",
       "      <td>...</td>\n",
       "      <td>...</td>\n",
       "      <td>...</td>\n",
       "    </tr>\n",
       "    <tr>\n",
       "      <th>6683</th>\n",
       "      <td>Yemen</td>\n",
       "      <td>YEM</td>\n",
       "      <td>2015</td>\n",
       "      <td>43.400002</td>\n",
       "    </tr>\n",
       "    <tr>\n",
       "      <th>6684</th>\n",
       "      <td>Yemen</td>\n",
       "      <td>YEM</td>\n",
       "      <td>2016</td>\n",
       "      <td>46.099998</td>\n",
       "    </tr>\n",
       "    <tr>\n",
       "      <th>6685</th>\n",
       "      <td>Yemen</td>\n",
       "      <td>YEM</td>\n",
       "      <td>2017</td>\n",
       "      <td>46.599998</td>\n",
       "    </tr>\n",
       "    <tr>\n",
       "      <th>6686</th>\n",
       "      <td>Yemen</td>\n",
       "      <td>YEM</td>\n",
       "      <td>2018</td>\n",
       "      <td>45.400002</td>\n",
       "    </tr>\n",
       "    <tr>\n",
       "      <th>6687</th>\n",
       "      <td>Yemen</td>\n",
       "      <td>YEM</td>\n",
       "      <td>2019</td>\n",
       "      <td>45.400002</td>\n",
       "    </tr>\n",
       "  </tbody>\n",
       "</table>\n",
       "<p>6688 rows × 4 columns</p>\n",
       "</div>"
      ],
      "text/plain": [
       "          Country CountryCode  Year  PrevalenceofUndernourishment\n",
       "0     Afghanistan         AFG  2001                     47.799999\n",
       "1     Afghanistan         AFG  2002                     45.599998\n",
       "2     Afghanistan         AFG  2003                     40.599998\n",
       "3     Afghanistan         AFG  2004                     38.000000\n",
       "4     Afghanistan         AFG  2005                     36.099998\n",
       "...           ...         ...   ...                           ...\n",
       "6683        Yemen         YEM  2015                     43.400002\n",
       "6684        Yemen         YEM  2016                     46.099998\n",
       "6685        Yemen         YEM  2017                     46.599998\n",
       "6686        Yemen         YEM  2018                     45.400002\n",
       "6687        Yemen         YEM  2019                     45.400002\n",
       "\n",
       "[6688 rows x 4 columns]"
      ]
     },
     "execution_count": 43,
     "metadata": {},
     "output_type": "execute_result"
    }
   ],
   "source": [
    "df5=sqlio.read_sql_query(sql,conn2)\n",
    "df5"
   ]
  },
  {
   "cell_type": "code",
   "execution_count": 44,
   "id": "05a39b92",
   "metadata": {},
   "outputs": [
    {
     "data": {
      "text/plain": [
       "<AxesSubplot:>"
      ]
     },
     "execution_count": 44,
     "metadata": {},
     "output_type": "execute_result"
    },
    {
     "data": {
      "image/png": "[encoded data removed]",
      "text/plain": [
       "<Figure size 2500x1000 with 2 Axes>"
      ]
     },
     "metadata": {},
     "output_type": "display_data"
    }
   ],
   "source": [
    "msno.matrix(df5)"
   ]
  },
  {
   "cell_type": "code",
   "execution_count": 45,
   "id": "35ac885e",
   "metadata": {},
   "outputs": [],
   "source": [
    "# we decide to drop the row the that contain missing value in country code, \n",
    "# the reason we drop is because the missing value the certain row is not a country, is region \n",
    "# such as south asia, asia and pacific, the middle of east and more\n",
    "df5new = df5.dropna()"
   ]
  },
  {
   "cell_type": "code",
   "execution_count": 46,
   "id": "88e28cb2",
   "metadata": {},
   "outputs": [
    {
     "name": "stdout",
     "output_type": "stream",
     "text": [
      "Summation of Missing Values: 0\n"
     ]
    }
   ],
   "source": [
    "print(\"Summation of Missing Values:\", df5new.isnull().sum().sum())"
   ]
  },
  {
   "cell_type": "code",
   "execution_count": 47,
   "id": "64904e75",
   "metadata": {},
   "outputs": [],
   "source": [
    "df5new.to_csv(\"Prevalence_of_Undernourishment.csv\", index=False)"
   ]
  },
  {
   "cell_type": "code",
   "execution_count": 48,
   "id": "344e638e",
   "metadata": {},
   "outputs": [],
   "source": [
    "sql=\"\"\"SELECT * FROM \"Sub_National\" \"\"\""
   ]
  },
  {
   "cell_type": "code",
   "execution_count": 49,
   "id": "62ddb9a1",
   "metadata": {},
   "outputs": [
    {
     "name": "stderr",
     "output_type": "stream",
     "text": [
      "C:\\Users\\limbi\\anaconda3\\lib\\site-packages\\pandas\\io\\sql.py:762: UserWarning: pandas only support SQLAlchemy connectable(engine/connection) ordatabase string URI or sqlite3 DBAPI2 connectionother DBAPI2 objects are not tested, please consider using SQLAlchemy\n",
      "  warnings.warn(\n"
     ]
    },
    {
     "data": {
      "text/html": [
       "<div>\n",
       "<style scoped>\n",
       "    .dataframe tbody tr th:only-of-type {\n",
       "        vertical-align: middle;\n",
       "    }\n",
       "\n",
       "    .dataframe tbody tr th {\n",
       "        vertical-align: top;\n",
       "    }\n",
       "\n",
       "    .dataframe thead th {\n",
       "        text-align: right;\n",
       "    }\n",
       "</style>\n",
       "<table border=\"1\" class=\"dataframe\">\n",
       "  <thead>\n",
       "    <tr style=\"text-align: right;\">\n",
       "      <th></th>\n",
       "      <th>ISO</th>\n",
       "      <th>Country</th>\n",
       "      <th>Sub_national_region</th>\n",
       "      <th>World_region</th>\n",
       "      <th>MPI_National</th>\n",
       "      <th>MPI_Regional</th>\n",
       "      <th>Headcount_Ratio_Regional</th>\n",
       "      <th>Intensity_of_deprivation_Regional</th>\n",
       "    </tr>\n",
       "  </thead>\n",
       "  <tbody>\n",
       "    <tr>\n",
       "      <th>0</th>\n",
       "      <td>AFG</td>\n",
       "      <td>Afghanistan</td>\n",
       "      <td>Badakhshan</td>\n",
       "      <td>South Asia</td>\n",
       "      <td>0.295</td>\n",
       "      <td>0.387</td>\n",
       "      <td>67.5</td>\n",
       "      <td>57.3</td>\n",
       "    </tr>\n",
       "    <tr>\n",
       "      <th>1</th>\n",
       "      <td>AFG</td>\n",
       "      <td>Afghanistan</td>\n",
       "      <td>Badghis</td>\n",
       "      <td>South Asia</td>\n",
       "      <td>0.295</td>\n",
       "      <td>0.466</td>\n",
       "      <td>79.3</td>\n",
       "      <td>58.8</td>\n",
       "    </tr>\n",
       "    <tr>\n",
       "      <th>2</th>\n",
       "      <td>AFG</td>\n",
       "      <td>Afghanistan</td>\n",
       "      <td>Baghlan</td>\n",
       "      <td>South Asia</td>\n",
       "      <td>0.295</td>\n",
       "      <td>0.300</td>\n",
       "      <td>59.7</td>\n",
       "      <td>50.3</td>\n",
       "    </tr>\n",
       "    <tr>\n",
       "      <th>3</th>\n",
       "      <td>AFG</td>\n",
       "      <td>Afghanistan</td>\n",
       "      <td>Balkh</td>\n",
       "      <td>South Asia</td>\n",
       "      <td>0.295</td>\n",
       "      <td>0.301</td>\n",
       "      <td>55.7</td>\n",
       "      <td>54.1</td>\n",
       "    </tr>\n",
       "    <tr>\n",
       "      <th>4</th>\n",
       "      <td>AFG</td>\n",
       "      <td>Afghanistan</td>\n",
       "      <td>Bamyan</td>\n",
       "      <td>South Asia</td>\n",
       "      <td>0.295</td>\n",
       "      <td>0.325</td>\n",
       "      <td>61.0</td>\n",
       "      <td>53.3</td>\n",
       "    </tr>\n",
       "    <tr>\n",
       "      <th>...</th>\n",
       "      <td>...</td>\n",
       "      <td>...</td>\n",
       "      <td>...</td>\n",
       "      <td>...</td>\n",
       "      <td>...</td>\n",
       "      <td>...</td>\n",
       "      <td>...</td>\n",
       "      <td>...</td>\n",
       "    </tr>\n",
       "    <tr>\n",
       "      <th>979</th>\n",
       "      <td>ZWE</td>\n",
       "      <td>Zimbabwe</td>\n",
       "      <td>Mashonaland West</td>\n",
       "      <td>Sub-Saharan Africa</td>\n",
       "      <td>0.152</td>\n",
       "      <td>0.192</td>\n",
       "      <td>43.7</td>\n",
       "      <td>44.1</td>\n",
       "    </tr>\n",
       "    <tr>\n",
       "      <th>980</th>\n",
       "      <td>ZWE</td>\n",
       "      <td>Zimbabwe</td>\n",
       "      <td>Masvingo</td>\n",
       "      <td>Sub-Saharan Africa</td>\n",
       "      <td>0.152</td>\n",
       "      <td>0.174</td>\n",
       "      <td>38.9</td>\n",
       "      <td>44.7</td>\n",
       "    </tr>\n",
       "    <tr>\n",
       "      <th>981</th>\n",
       "      <td>ZWE</td>\n",
       "      <td>Zimbabwe</td>\n",
       "      <td>Matabeleland North</td>\n",
       "      <td>Sub-Saharan Africa</td>\n",
       "      <td>0.152</td>\n",
       "      <td>0.238</td>\n",
       "      <td>53.4</td>\n",
       "      <td>44.5</td>\n",
       "    </tr>\n",
       "    <tr>\n",
       "      <th>982</th>\n",
       "      <td>ZWE</td>\n",
       "      <td>Zimbabwe</td>\n",
       "      <td>Matabeleland South</td>\n",
       "      <td>Sub-Saharan Africa</td>\n",
       "      <td>0.152</td>\n",
       "      <td>0.164</td>\n",
       "      <td>38.2</td>\n",
       "      <td>42.8</td>\n",
       "    </tr>\n",
       "    <tr>\n",
       "      <th>983</th>\n",
       "      <td>ZWE</td>\n",
       "      <td>Zimbabwe</td>\n",
       "      <td>Midlands</td>\n",
       "      <td>Sub-Saharan Africa</td>\n",
       "      <td>0.152</td>\n",
       "      <td>0.176</td>\n",
       "      <td>40.5</td>\n",
       "      <td>43.5</td>\n",
       "    </tr>\n",
       "  </tbody>\n",
       "</table>\n",
       "<p>984 rows × 8 columns</p>\n",
       "</div>"
      ],
      "text/plain": [
       "     ISO      Country Sub_national_region        World_region  MPI_National  \\\n",
       "0    AFG  Afghanistan          Badakhshan          South Asia         0.295   \n",
       "1    AFG  Afghanistan             Badghis          South Asia         0.295   \n",
       "2    AFG  Afghanistan             Baghlan          South Asia         0.295   \n",
       "3    AFG  Afghanistan               Balkh          South Asia         0.295   \n",
       "4    AFG  Afghanistan              Bamyan          South Asia         0.295   \n",
       "..   ...          ...                 ...                 ...           ...   \n",
       "979  ZWE     Zimbabwe    Mashonaland West  Sub-Saharan Africa         0.152   \n",
       "980  ZWE     Zimbabwe            Masvingo  Sub-Saharan Africa         0.152   \n",
       "981  ZWE     Zimbabwe  Matabeleland North  Sub-Saharan Africa         0.152   \n",
       "982  ZWE     Zimbabwe  Matabeleland South  Sub-Saharan Africa         0.152   \n",
       "983  ZWE     Zimbabwe            Midlands  Sub-Saharan Africa         0.152   \n",
       "\n",
       "     MPI_Regional  Headcount_Ratio_Regional  Intensity_of_deprivation_Regional  \n",
       "0           0.387                      67.5                               57.3  \n",
       "1           0.466                      79.3                               58.8  \n",
       "2           0.300                      59.7                               50.3  \n",
       "3           0.301                      55.7                               54.1  \n",
       "4           0.325                      61.0                               53.3  \n",
       "..            ...                       ...                                ...  \n",
       "979         0.192                      43.7                               44.1  \n",
       "980         0.174                      38.9                               44.7  \n",
       "981         0.238                      53.4                               44.5  \n",
       "982         0.164                      38.2                               42.8  \n",
       "983         0.176                      40.5                               43.5  \n",
       "\n",
       "[984 rows x 8 columns]"
      ]
     },
     "execution_count": 49,
     "metadata": {},
     "output_type": "execute_result"
    }
   ],
   "source": [
    "df6=sqlio.read_sql_query(sql,conn2)\n",
    "df6"
   ]
  },
  {
   "cell_type": "code",
   "execution_count": 50,
   "id": "d52513b1",
   "metadata": {},
   "outputs": [
    {
     "data": {
      "text/plain": [
       "<AxesSubplot:>"
      ]
     },
     "execution_count": 50,
     "metadata": {},
     "output_type": "execute_result"
    },
    {
     "data": {
      "image/png": "[encoded data removed]",
      "text/plain": [
       "<Figure size 2500x1000 with 2 Axes>"
      ]
     },
     "metadata": {},
     "output_type": "display_data"
    }
   ],
   "source": [
    "msno.matrix(df6)"
   ]
  },
  {
   "cell_type": "code",
   "execution_count": 51,
   "id": "6bbb7388",
   "metadata": {},
   "outputs": [],
   "source": [
    "# Formula to find the Intensity of deprivation Regional\n",
    "df6['Intensity_of_deprivation_Regional'] = df6['Intensity_of_deprivation_Regional'].fillna((df6['MPI_Regional']/df6['Headcount_Ratio_Regional'])*10000)"
   ]
  },
  {
   "cell_type": "code",
   "execution_count": 52,
   "id": "0f317e6b",
   "metadata": {},
   "outputs": [
    {
     "name": "stdout",
     "output_type": "stream",
     "text": [
      "Summation of Missing Values: 1\n"
     ]
    }
   ],
   "source": [
    "# Since there is still have null value, so we will explore and see what the problem\n",
    "print(\"Summation of Missing Values:\", df6.isnull().sum().sum())"
   ]
  },
  {
   "cell_type": "code",
   "execution_count": 53,
   "id": "d992ba30",
   "metadata": {},
   "outputs": [
    {
     "name": "stdout",
     "output_type": "stream",
     "text": [
      "Row: 730, Column: Intensity_of_deprivation_Regional\n"
     ]
    }
   ],
   "source": [
    "missing_rows, missing_cols = np.where(df6.isnull())\n",
    "# Create a list of missing value locations\n",
    "missing_locations = list(zip(missing_rows, missing_cols))\n",
    "# Show the missing value at which row and which column\n",
    "for row, col in missing_locations:\n",
    "    print(f\"Row: {row}, Column: {df6.columns[col]}\")"
   ]
  },
  {
   "cell_type": "code",
   "execution_count": 54,
   "id": "71fdb28f",
   "metadata": {},
   "outputs": [
    {
     "data": {
      "text/plain": [
       "ISO                                                          PER\n",
       "Country                                                     Peru\n",
       "Sub_national_region                                       Callao\n",
       "World_region                         Latin America and Caribbean\n",
       "MPI_National                                               0.043\n",
       "MPI_Regional                                                 0.0\n",
       "Headcount_Ratio_Regional                                     0.0\n",
       "Intensity_of_deprivation_Regional                            NaN\n",
       "Name: 730, dtype: object"
      ]
     },
     "execution_count": 54,
     "metadata": {},
     "output_type": "execute_result"
    }
   ],
   "source": [
    "df6.iloc[730]"
   ]
  },
  {
   "cell_type": "code",
   "execution_count": 55,
   "id": "6a459f8a",
   "metadata": {},
   "outputs": [],
   "source": [
    "# because 0/0 is not a value, so we just replace with 0 value in intensity of deprivation regional\n",
    "df6new = df6.fillna(0)"
   ]
  },
  {
   "cell_type": "code",
   "execution_count": 56,
   "id": "2d9f6633",
   "metadata": {},
   "outputs": [
    {
     "name": "stdout",
     "output_type": "stream",
     "text": [
      "Summation of Missing Values: 0\n"
     ]
    }
   ],
   "source": [
    "print(\"Summation of Missing Values:\", df6new.isnull().sum().sum())"
   ]
  },
  {
   "cell_type": "code",
   "execution_count": 57,
   "id": "e20b08d2",
   "metadata": {},
   "outputs": [],
   "source": [
    "df6.to_csv(\"Sub_National.csv\", index=False)"
   ]
  },
  {
   "cell_type": "code",
   "execution_count": null,
   "id": "d9e83ebc",
   "metadata": {},
   "outputs": [],
   "source": []
  }
 ],
 "metadata": {
  "kernelspec": {
   "display_name": "Python 3 (ipykernel)",
   "language": "python",
   "name": "python3"
  },
  "language_info": {
   "codemirror_mode": {
    "name": "ipython",
    "version": 3
   },
   "file_extension": ".py",
   "mimetype": "text/x-python",
   "name": "python",
   "nbconvert_exporter": "python",
   "pygments_lexer": "ipython3",
   "version": "3.9.13"
  }
 },
 "nbformat": 4,
 "nbformat_minor": 5
}
